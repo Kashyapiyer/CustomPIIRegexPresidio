{
  "nbformat": 4,
  "nbformat_minor": 0,
  "metadata": {
    "colab": {
      "provenance": []
    },
    "kernelspec": {
      "name": "python3",
      "display_name": "Python 3"
    },
    "language_info": {
      "name": "python"
    }
  },
  "cells": [
    {
      "cell_type": "code",
      "execution_count": 1,
      "metadata": {
        "id": "qcA7lWKDfSYr"
      },
      "outputs": [],
      "source": [
        "!pip -q install presidio_analyzer presidio_anonymizer"
      ]
    },
    {
      "cell_type": "code",
      "source": [
        "from Customregexpiidetector import *"
      ],
      "metadata": {
        "id": "EpD_W63yXkvp"
      },
      "execution_count": 2,
      "outputs": []
    },
    {
      "cell_type": "code",
      "source": [
        "from piihelper import *"
      ],
      "metadata": {
        "id": "oJMIAKF489uM"
      },
      "execution_count": 3,
      "outputs": []
    },
    {
      "cell_type": "code",
      "source": [
        "cnfobj = read_json_conf('config.json')"
      ],
      "metadata": {
        "id": "gbnjmgh_9H94"
      },
      "execution_count": 4,
      "outputs": []
    },
    {
      "cell_type": "code",
      "source": [
        "def checkregexpiiinformation(contextstr, configobj=cnfobj):\n",
        "       detector = Customregxpiidetectorandanonimizer(configobj)\n",
        "       result = detector.customanalyzer(contextstr)\n",
        "       return result"
      ],
      "metadata": {
        "id": "u19FAHao8ikC"
      },
      "execution_count": 5,
      "outputs": []
    },
    {
      "cell_type": "code",
      "source": [
        "checkregexpiiinformation(contextstr=\"Explain 314b\")"
      ],
      "metadata": {
        "colab": {
          "base_uri": "https://localhost:8080/"
        },
        "id": "hvRRUPYm9UuB",
        "outputId": "3ac1a540-dfb0-4f42-a477-9518d7a9a91e"
      },
      "execution_count": 6,
      "outputs": [
        {
          "output_type": "execute_result",
          "data": {
            "text/plain": [
              "{'piidetected': False, 'contextsupplied': 'Explain 314b'}"
            ]
          },
          "metadata": {},
          "execution_count": 6
        }
      ]
    },
    {
      "cell_type": "code",
      "source": [
        "checkregexpiiinformation(contextstr=\"Mark conveyed his DOB as 25-Jan-1991 and account number as 3690859741294280. Tell me what is AML\")"
      ],
      "metadata": {
        "colab": {
          "base_uri": "https://localhost:8080/"
        },
        "id": "1jEF4WSi_3ZG",
        "outputId": "e773d860-906f-4991-a9e1-d5c7802252b4"
      },
      "execution_count": 7,
      "outputs": [
        {
          "output_type": "stream",
          "name": "stderr",
          "text": [
            "/usr/local/lib/python3.11/dist-packages/spacy/util.py:1740: UserWarning: [W111] Jupyter notebook detected: if using `prefer_gpu()` or `require_gpu()`, include it in the same cell right before `spacy.load()` to ensure that the model is loaded on the correct device. More information: http://spacy.io/usage/v3#jupyter-notebook-gpu\n",
            "  warnings.warn(Warnings.W111)\n"
          ]
        },
        {
          "output_type": "execute_result",
          "data": {
            "text/plain": [
              "{'textdetected': ['Mark',\n",
              "  '25-Jan-1991',\n",
              "  '3690859741294280',\n",
              "  '3690859741294280'],\n",
              " 'entitiesdetected': ['PERSON',\n",
              "  'DATE_TIME',\n",
              "  'US_BANK_NUMBER',\n",
              "  'US_DRIVER_LICENSE'],\n",
              " 'capturedentityscores': [0.85, 0.6, 0.4, 0.01],\n",
              " 'Totalentityscores': 1.86,\n",
              " 'anonimizedtext': None,\n",
              " 'piidetected': True,\n",
              " 'contextsupplied': 'Mark conveyed his DOB as 25-Jan-1991 and account number as 3690859741294280. Tell me what is AML'}"
            ]
          },
          "metadata": {},
          "execution_count": 7
        }
      ]
    },
    {
      "cell_type": "markdown",
      "source": [
        "# Enforce Anonymization"
      ],
      "metadata": {
        "id": "sMw1ZiDLAYri"
      }
    },
    {
      "cell_type": "code",
      "source": [
        "cnfobj['doanonymize'] = True"
      ],
      "metadata": {
        "id": "cP1RbFX6AUvO"
      },
      "execution_count": 8,
      "outputs": []
    },
    {
      "cell_type": "code",
      "source": [
        "checkregexpiiinformation(contextstr=\"His new account is 3690859741294280 also what is 314b\", configobj=cnfobj)"
      ],
      "metadata": {
        "colab": {
          "base_uri": "https://localhost:8080/"
        },
        "id": "hzpX74tgAbO5",
        "outputId": "b8114531-9abc-4bd0-9a2c-6f976e469613"
      },
      "execution_count": 9,
      "outputs": [
        {
          "output_type": "execute_result",
          "data": {
            "text/plain": [
              "{'textdetected': ['3690859741294280', '3690859741294280'],\n",
              " 'entitiesdetected': ['US_BANK_NUMBER', 'US_DRIVER_LICENSE'],\n",
              " 'capturedentityscores': [0.4, 0.01],\n",
              " 'Totalentityscores': 0.41,\n",
              " 'anonimizedtext': 'His new account is <US_BANK_NUMBER> also what is 314b',\n",
              " 'piidetected': True,\n",
              " 'contextsupplied': 'His new account is 3690859741294280 also what is 314b'}"
            ]
          },
          "metadata": {},
          "execution_count": 9
        }
      ]
    },
    {
      "cell_type": "code",
      "source": [
        "checkregexpiiinformation(contextstr=\"Mark conveyed his DOB as 25-Jan-1991 and account number as 3690859741294280. Tell me what is AML\")"
      ],
      "metadata": {
        "colab": {
          "base_uri": "https://localhost:8080/"
        },
        "id": "qeYDASi6Slyz",
        "outputId": "1c5d0e8c-82e2-4234-f603-74d96e1068dc"
      },
      "execution_count": 10,
      "outputs": [
        {
          "output_type": "execute_result",
          "data": {
            "text/plain": [
              "{'textdetected': ['Mark',\n",
              "  '25-Jan-1991',\n",
              "  '3690859741294280',\n",
              "  '3690859741294280'],\n",
              " 'entitiesdetected': ['PERSON',\n",
              "  'DATE_TIME',\n",
              "  'US_BANK_NUMBER',\n",
              "  'US_DRIVER_LICENSE'],\n",
              " 'capturedentityscores': [0.85, 0.6, 0.4, 0.01],\n",
              " 'Totalentityscores': 1.86,\n",
              " 'anonimizedtext': '<PERSON> conveyed his DOB as <DATE_TIME> and account number as <US_BANK_NUMBER>. Tell me what is AML',\n",
              " 'piidetected': True,\n",
              " 'contextsupplied': 'Mark conveyed his DOB as 25-Jan-1991 and account number as 3690859741294280. Tell me what is AML'}"
            ]
          },
          "metadata": {},
          "execution_count": 10
        }
      ]
    },
    {
      "cell_type": "code",
      "source": [
        "checkregexpiiinformation(contextstr=\"Mark conveyed his DOB as 25-Jan-1991 and account number as 3690859741294280. Tell me what is AML\")"
      ],
      "metadata": {
        "colab": {
          "base_uri": "https://localhost:8080/"
        },
        "id": "ySCjHz4GZHqz",
        "outputId": "4d996899-4194-4446-c4d7-5e045185e91e"
      },
      "execution_count": 11,
      "outputs": [
        {
          "output_type": "execute_result",
          "data": {
            "text/plain": [
              "{'textdetected': ['Mark',\n",
              "  '25-Jan-1991',\n",
              "  '3690859741294280',\n",
              "  '3690859741294280'],\n",
              " 'entitiesdetected': ['PERSON',\n",
              "  'DATE_TIME',\n",
              "  'US_BANK_NUMBER',\n",
              "  'US_DRIVER_LICENSE'],\n",
              " 'capturedentityscores': [0.85, 0.6, 0.4, 0.01],\n",
              " 'Totalentityscores': 1.86,\n",
              " 'anonimizedtext': '<PERSON> conveyed his DOB as <DATE_TIME> and account number as <US_BANK_NUMBER>. Tell me what is AML',\n",
              " 'piidetected': True,\n",
              " 'contextsupplied': 'Mark conveyed his DOB as 25-Jan-1991 and account number as 3690859741294280. Tell me what is AML'}"
            ]
          },
          "metadata": {},
          "execution_count": 11
        }
      ]
    },
    {
      "cell_type": "code",
      "source": [
        "checkregexpiiinformation(contextstr=\"\"\"If AI becomes less expensive to use, we think businesses will adopt it more quickly, making a greater investment in AI software,” according to James Egelhof, chief U.S. economist at BNP Paribas. “We think this acceleration in adoption could mean a rise in software investment that offsets – or even dwarfs – any deceleration in spending on data center structures, hardware and related investment.\"\"\")"
      ],
      "metadata": {
        "colab": {
          "base_uri": "https://localhost:8080/"
        },
        "id": "Ysqn6mNgZMKR",
        "outputId": "3368a69e-d7a6-406a-8a79-07b5445c9d39"
      },
      "execution_count": 12,
      "outputs": [
        {
          "output_type": "execute_result",
          "data": {
            "text/plain": [
              "{'textdetected': ['James Egelhof', 'U.S.'],\n",
              " 'entitiesdetected': ['PERSON', 'LOCATION'],\n",
              " 'capturedentityscores': [0.85, 0.85],\n",
              " 'Totalentityscores': 1.7,\n",
              " 'anonimizedtext': 'If AI becomes less expensive to use, we think businesses will adopt it more quickly, making a greater investment in AI software,” according to <PERSON>, chief <LOCATION> economist at BNP Paribas. “We think this acceleration in adoption could mean a rise in software investment that offsets – or even dwarfs – any deceleration in spending on data center structures, hardware and related investment.',\n",
              " 'piidetected': True,\n",
              " 'contextsupplied': 'If AI becomes less expensive to use, we think businesses will adopt it more quickly, making a greater investment in AI software,” according to James Egelhof, chief U.S. economist at BNP Paribas. “We think this acceleration in adoption could mean a rise in software investment that offsets – or even dwarfs – any deceleration in spending on data center structures, hardware and related investment.'}"
            ]
          },
          "metadata": {},
          "execution_count": 12
        }
      ]
    },
    {
      "cell_type": "code",
      "source": [
        "Nvidianasdaqtestcase= \"\"\"The Nasdaq led gains and AI chip leader Nvidia gave the index its biggest boost, a day after Nvidia's 17% drop erased about $593 billion from its market value in the biggest single-session loss for any company.\n",
        "The S&P 500 technology sector rose the most of any S&P 500 sector, while an index of semiconductor shares also gained.\n",
        "Investors were eager to hear from Apple, Microsoft and other companies when they report quarterly results this week.\n",
        "The tech sell-off followed Chinese startup DeepSeek's launch of AI models it said were on a par or better than industry-leading U.S. rivals at a fraction of the cost.\n",
        "\"We're getting the typical bounceback rally you'd expect when you have news that's not very specific and more of a potential for a future change,\" said Rick Meckler, partner, Cherry Lane Investments, a family investment office in New Vernon, New Jersey.\n",
        "\"Some of the tech market, particularly around AI, was ready for a bit of a sell-off, and this news provided the excuse for it. Today you're seeing the bargain hunters come back in and also those who are discounting the news about DeepSeek since we don't really know very much about it.\"\n",
        "Nvidia's forward price-to-earnings ratio, a common valuation metric, earlier hit its cheapest level since December 2023.\n",
        "According to preliminary data, the S&P 500 gained 54.68 points, or 0.91%, to end at 6,066.96 points, while the Nasdaq Composite gained 391.75 points, or 2.03%, to 19,733.59. The Dow Jones Industrial Average rose 134.17 points, or 0.30%, to 44,847.71.\n",
        "Fourth-quarter 2024 U.S. earnings season is in full swing, with shares of Royal Caribbean rallying after the cruise operator forecast annual profit largely above expectations.\n",
        "Boeing shares were volatile after the planemaker reported its biggest annual loss since 2020. General Motors shares fell following its results and outlook, with investors weighing the threat of tariffs that could hit the automaker's business.\n",
        "U.S. President Donald Trump said late on Monday he plans to impose tariffs on imported computer chips, pharmaceuticals and steel.\n",
        "On Wednesday, the Federal Reserve is widely expected to hold its lending rate steady in its first interest-rate decision of the year.\n",
        "\"\"\"\n",
        "\n",
        "Nvidiatestcase2= \"\"\"That created a concern among the investment community that Nvidia’s high GPU (graphics processing unit, or AI chip) prices could come under pressure and that demand for semiconductors could wane.\n",
        "Nvidia’s $589 billion market cap decline was the largest single-day loss in stock market history.\n",
        "The DeepSeek announcements drove down not only Nvidia but the market at large, with the tech-heavy Nasdaq (^IXIC) dropping 3%. Chip stocks dropped across the board Monday, but some names began to recover. After dropping more than 17% to start the week, Broadcom (AVGO) rose 2.6% Tuesday.\n",
        "Nvidia itself didn’t express much anxiety over the DeepSeek buzz, calling R1 \"an excellent AI advancement\" in a statement Monday.\n",
        "Wall Street analysts continued to reflect on the DeepSeek-fueled market rout Tuesday, expressing skepticism over DeepSeek’s reportedly low costs to train its AI models and the implications for AI stocks.\n",
        "JPMorgan analyst Harlan Sur and Citi analyst Christopher Danley said in separate notes to investors that because DeepSeek used a process called “distillation” — in other words, it relied on Meta’s (META) open-source Llama AI model to develop its model — the low spending cited by the Chinese startup (under $6 billion to train its recent V3 model) did not fully encompass its costs.\n",
        "“We believe it is crucial to validate these costs before drawing conclusions,” Sur wrote.\n",
        "Danley added: “Given Deepseek is based on leveraging cloud service providers [Meta] and AI is still in its infancy, we lean towards the argument of continued strong growth in AI spending.”\n",
        "Even so, DeepSeek “clearly doesn’t have access to as much compute as US hyperscalers and somehow managed to develop a model that appears highly competitive,” Raymond James analyst Srini Pajjuri wrote in a note to investors Monday.\n",
        "\"\"\"\n",
        "\n",
        "\n",
        "coinbasetestcase = \"\"\"Coinbase CEO Brian Armstrong said 1 million new tokens are created weekly.\n",
        "He said regulators need to know that it's not \"feasible\" to evaluate each one for listing.\n",
        "Armstrong suggested a shift to a \"block list\" for crypto listings to streamline the process.\n",
        "The CEO of Coinbase says that a million new crypto coins are created every week, and it's becoming hard to evaluate them all.\n",
        "Coinbase is a popular cryptocurrency trading platform that has allowed users to trade cryptocurrencies such as bitcoin and dogecoin since 2012. The company has seen enormous growth since going public in 2022 and is now worth $74 billion.\n",
        "Coinbase, like all cryptocurrency exchanges, uses an application process for new currency listings that evaluates the coin based on the company's own digital-asset framework.\n",
        "\"High-quality problem to have, but evaluating each one by one is no longer feasible,\" Coinbase CEO Brian Armstrong wrote in a post on X on Sunday. \"And regulators need to understand that applying for approval for each one is totally infeasible at this point as well (they can't do 1m a week).\"\n",
        "Coinbase and other leading crypto companies have urged the federal government to clarify cryptocurrency regulations to ensure they can stay compliant.\n",
        "The industry is optimistic, however, with the arrival of President Donald Trump, who has made promoting crypto a central part of his agenda. Trump even launched his own meme coin shortly before his inauguration. His wife, Melania Trump, quickly followed suit.\n",
        "The number of circulating meme coins has risen in recent years. These are cryptocurrencies that are sometimes based on an internet meme or the result of a joke but are always designed to go viral in the hope of increasing their value.\n",
        "Anyone can create a meme coin online. If it does go viral, it could earn the creator, who's often the largest investor, a windfall. Influencers have caught on and now often leverage their followings to capitalize.\n",
        "Haliey Welch, known to most online as the \"Hawk Tuah Girl,\" made headlines in December after she launched her own meme coin, $hawk. The coin's total market value shot up to almost $500 million before it collapsed after just hours. Welch told Fortune at the time that the coin wasn't meant to be a \"cash grab.\" In a post on X, Welch said her team didn't sell any coins.\n",
        "Armstrong said it was time to \"rethink\" the listing process at Coinbase, advocating for regulation of the crypto listing process to move from an \"add list\" to a \"block list\" that utilizes customer reviews and automated scans of blockchain data to help with the process.\n",
        "\"\"\"\n",
        "\n",
        "deepseektestcase = \"\"\"AI-exposed power stocks rebounded on Tuesday after getting crushed the previous day alongside a tech rout following the release of a new AI model from the Chinese upstart DeepSeek.\n",
        "Constellation Energy (CEG), the largest nuclear plant operator in the US, gained more than 1% after tumbling 21% in the prior session.\n",
        "Electricity and power generator Vistra Corp (VST) jumped 9% after sinking by a record 28%. Meanwhile, power equipment maker and servicer GE Vernova (GEV) gained more than 7%, following a 21% drop.\n",
        "In late January, DeepSeek released a new AI model that was competitive with those of US rivals and cheaper to produce. The model surged in popularity, rising to the top of US iPhone downloads ahead of OpenAI's ChatGPT, and won praise from prominent figures. American venture capitalist Marc Andreessen called the model “one of the most amazing and impressive breakthroughs I’ve ever seen.”\n",
        "The developments have rattled investors, who bid up power stocks on the belief that US hyperscalers will pour money into building out data centers required for AI use, thereby driving a surge in energy demand. Power stocks are coming off a ripping rally in 2024 and start of the year, with Constellation, Vistra, and GE Vernova all having touched record highs just last week.\n",
        "Now, questions are emerging on whether long-term energy demand will be as strong as expected.\n",
        "\"Hopefully we can kind of resume some of the upward [stock] trend, but this really does kind of cast some uncertainty into that thesis, which has become an investor’s base case,\" said Paul Zimbardo, managing director for US power utilities and clean energy research at Jefferies.\n",
        "The analyst, however, noted data center deployment is \"very likely intact\" in the medium term. The question going forward is what happens in the later part of the decade and 2030s.\n",
        "He said, \"Does that trend accelerate in the future? Does it kind of stabilize and even see some moderation of demand growth out later in the decade?\"\n",
        "Wall Street analysts recognize estimates of data center energy usage are bound to change over time as the technology becomes more efficient.\n",
        "\"AI is, of course, very nascent, young technology, which means that trying to estimate how much energy AI will ultimately need is very speculative,\" Pavel Molchanov, investment strategy analyst at Raymond James, told Yahoo Finance on Tuesday.\n",
        "\"It's going to be a lot, and we should expect that electricity demand in the US and various other economies will accelerate as a result of AI. It's just a question of how much,\" he added.\n",
        "The increased energy needs are already visible. After nearly two decades of relatively steady demand, US electricity consumption jumped by 2% in 2024, according to government data.\n",
        "The Energy Information Administration forecasts electricity demand will continue growing at that rate in this year and 2026.\n",
        "Data center deployments are also happening at the same time that utility companies build out their electric grids and infrastructure.\n",
        "\"All of this is a marathon rather than a sprint. It takes years to build data center projects, and it takes years to build power plants and transmission grids,\" said Molchanov.\n",
        "\"\"\""
      ],
      "metadata": {
        "id": "7IIvntkRZYlP"
      },
      "execution_count": 13,
      "outputs": []
    },
    {
      "cell_type": "code",
      "source": [
        "checkregexpiiinformation(contextstr=Nvidianasdaqtestcase)"
      ],
      "metadata": {
        "colab": {
          "base_uri": "https://localhost:8080/"
        },
        "id": "dEyw5DnXbv9W",
        "outputId": "d717fca4-06e5-4ca9-c44b-0cff5ebdd66b"
      },
      "execution_count": 15,
      "outputs": [
        {
          "output_type": "stream",
          "name": "stderr",
          "text": [
            "/usr/local/lib/python3.11/dist-packages/spacy/util.py:1740: UserWarning: [W111] Jupyter notebook detected: if using `prefer_gpu()` or `require_gpu()`, include it in the same cell right before `spacy.load()` to ensure that the model is loaded on the correct device. More information: http://spacy.io/usage/v3#jupyter-notebook-gpu\n",
            "  warnings.warn(Warnings.W111)\n"
          ]
        },
        {
          "output_type": "execute_result",
          "data": {
            "text/plain": [
              "{'textdetected': ['a day',\n",
              "  'quarterly',\n",
              "  'this week',\n",
              "  'Chinese',\n",
              "  'U.S.',\n",
              "  'Rick Meckler',\n",
              "  'New Vernon',\n",
              "  'New Jersey',\n",
              "  'Today',\n",
              "  'December 2023',\n",
              "  '44,847.71',\n",
              "  'Fourth-quarter 2024',\n",
              "  'U.S.',\n",
              "  'season',\n",
              "  'annual',\n",
              "  'annual',\n",
              "  '2020',\n",
              "  'U.S.',\n",
              "  'Donald Trump',\n",
              "  'Monday',\n",
              "  'Wednesday',\n",
              "  'the year',\n",
              "  'technology',\n",
              "  'bounceback',\n",
              "  'investment',\n",
              "  'Industrial',\n",
              "  'planemaker'],\n",
              " 'entitiesdetected': ['DATE_TIME',\n",
              "  'DATE_TIME',\n",
              "  'DATE_TIME',\n",
              "  'NRP',\n",
              "  'LOCATION',\n",
              "  'PERSON',\n",
              "  'LOCATION',\n",
              "  'LOCATION',\n",
              "  'DATE_TIME',\n",
              "  'DATE_TIME',\n",
              "  'DATE_TIME',\n",
              "  'DATE_TIME',\n",
              "  'LOCATION',\n",
              "  'DATE_TIME',\n",
              "  'DATE_TIME',\n",
              "  'DATE_TIME',\n",
              "  'DATE_TIME',\n",
              "  'LOCATION',\n",
              "  'PERSON',\n",
              "  'DATE_TIME',\n",
              "  'DATE_TIME',\n",
              "  'DATE_TIME',\n",
              "  'IN_PAN',\n",
              "  'IN_PAN',\n",
              "  'IN_PAN',\n",
              "  'IN_PAN',\n",
              "  'IN_PAN'],\n",
              " 'capturedentityscores': [0.85,\n",
              "  0.85,\n",
              "  0.85,\n",
              "  0.85,\n",
              "  0.85,\n",
              "  0.85,\n",
              "  0.85,\n",
              "  0.85,\n",
              "  0.85,\n",
              "  0.85,\n",
              "  0.85,\n",
              "  0.85,\n",
              "  0.85,\n",
              "  0.85,\n",
              "  0.85,\n",
              "  0.85,\n",
              "  0.85,\n",
              "  0.85,\n",
              "  0.85,\n",
              "  0.85,\n",
              "  0.85,\n",
              "  0.85,\n",
              "  0.4,\n",
              "  0.05,\n",
              "  0.05,\n",
              "  0.05,\n",
              "  0.05],\n",
              " 'Totalentityscores': 19.3,\n",
              " 'anonimizedtext': 'The Nasdaq led gains and AI chip leader Nvidia gave the index its biggest boost, <DATE_TIME> after Nvidia\\'s 17% drop erased about $593 billion from its market value in the biggest single-session loss for any company.\\nThe S&P 500 <IN_PAN> sector rose the most of any S&P 500 sector, while an index of semiconductor shares also gained.\\nInvestors were eager to hear from Apple, Microsoft and other companies when they report <DATE_TIME> results <DATE_TIME>.\\nThe tech sell-off followed <NRP> startup DeepSeek\\'s launch of AI models it said were on a par or better than industry-leading <LOCATION> rivals at a fraction of the cost.\\n\"We\\'re getting the typical <IN_PAN> rally you\\'d expect when you have news that\\'s not very specific and more of a potential for a future change,\" said <PERSON>, partner, Cherry Lane Investments, a family <IN_PAN> office in <LOCATION>, <LOCATION>.\\n\"Some of the tech market, particularly around AI, was ready for a bit of a sell-off, and this news provided the excuse for it. <DATE_TIME> you\\'re seeing the bargain hunters come back in and also those who are discounting the news about DeepSeek since we don\\'t really know very much about it.\"\\nNvidia\\'s forward price-to-earnings ratio, a common valuation metric, earlier hit its cheapest level since <DATE_TIME>.\\nAccording to preliminary data, the S&P 500 gained 54.68 points, or 0.91%, to end at 6,066.96 points, while the Nasdaq Composite gained 391.75 points, or 2.03%, to 19,733.59. The Dow Jones <IN_PAN> Average rose 134.17 points, or 0.30%, to <DATE_TIME>.\\n<DATE_TIME> <LOCATION> earnings <DATE_TIME> is in full swing, with shares of Royal Caribbean rallying after the cruise operator forecast <DATE_TIME> profit largely above expectations.\\nBoeing shares were volatile after the <IN_PAN> reported its biggest <DATE_TIME> loss since <DATE_TIME>. General Motors shares fell following its results and outlook, with investors weighing the threat of tariffs that could hit the automaker\\'s business.\\n<LOCATION> President <PERSON> said late on <DATE_TIME> he plans to impose tariffs on imported computer chips, pharmaceuticals and steel.\\nOn <DATE_TIME>, the Federal Reserve is widely expected to hold its lending rate steady in its first interest-rate decision of <DATE_TIME>.\\n',\n",
              " 'piidetected': True,\n",
              " 'contextsupplied': 'The Nasdaq led gains and AI chip leader Nvidia gave the index its biggest boost, a day after Nvidia\\'s 17% drop erased about $593 billion from its market value in the biggest single-session loss for any company.\\nThe S&P 500 technology sector rose the most of any S&P 500 sector, while an index of semiconductor shares also gained.\\nInvestors were eager to hear from Apple, Microsoft and other companies when they report quarterly results this week.\\nThe tech sell-off followed Chinese startup DeepSeek\\'s launch of AI models it said were on a par or better than industry-leading U.S. rivals at a fraction of the cost.\\n\"We\\'re getting the typical bounceback rally you\\'d expect when you have news that\\'s not very specific and more of a potential for a future change,\" said Rick Meckler, partner, Cherry Lane Investments, a family investment office in New Vernon, New Jersey.\\n\"Some of the tech market, particularly around AI, was ready for a bit of a sell-off, and this news provided the excuse for it. Today you\\'re seeing the bargain hunters come back in and also those who are discounting the news about DeepSeek since we don\\'t really know very much about it.\"\\nNvidia\\'s forward price-to-earnings ratio, a common valuation metric, earlier hit its cheapest level since December 2023.\\nAccording to preliminary data, the S&P 500 gained 54.68 points, or 0.91%, to end at 6,066.96 points, while the Nasdaq Composite gained 391.75 points, or 2.03%, to 19,733.59. The Dow Jones Industrial Average rose 134.17 points, or 0.30%, to 44,847.71.\\nFourth-quarter 2024 U.S. earnings season is in full swing, with shares of Royal Caribbean rallying after the cruise operator forecast annual profit largely above expectations.\\nBoeing shares were volatile after the planemaker reported its biggest annual loss since 2020. General Motors shares fell following its results and outlook, with investors weighing the threat of tariffs that could hit the automaker\\'s business.\\nU.S. President Donald Trump said late on Monday he plans to impose tariffs on imported computer chips, pharmaceuticals and steel.\\nOn Wednesday, the Federal Reserve is widely expected to hold its lending rate steady in its first interest-rate decision of the year.\\n'}"
            ]
          },
          "metadata": {},
          "execution_count": 15
        }
      ]
    },
    {
      "cell_type": "code",
      "source": [
        "checkregexpiiinformation(contextstr=deepseektestcase)"
      ],
      "metadata": {
        "colab": {
          "base_uri": "https://localhost:8080/"
        },
        "id": "wqdorbe7b0GD",
        "outputId": "5396a221-e136-46ea-981f-12c331e67cb8"
      },
      "execution_count": 16,
      "outputs": [
        {
          "output_type": "execute_result",
          "data": {
            "text/plain": [
              "{'textdetected': ['Tuesday',\n",
              "  'the previous day',\n",
              "  'Chinese',\n",
              "  'US',\n",
              "  'late January',\n",
              "  'US',\n",
              "  'US',\n",
              "  'American',\n",
              "  'Marc Andreessen',\n",
              "  'US',\n",
              "  '2024',\n",
              "  'the year',\n",
              "  'just last week',\n",
              "  'Paul Zimbardo',\n",
              "  'US',\n",
              "  'the decade and',\n",
              "  'the decade and 2030s',\n",
              "  'later in the decade',\n",
              "  'Pavel Molchanov',\n",
              "  'Raymond James',\n",
              "  'Tuesday',\n",
              "  'US',\n",
              "  'AI',\n",
              "  'nearly two decades',\n",
              "  'US',\n",
              "  '2024',\n",
              "  'this year',\n",
              "  '2026',\n",
              "  'years',\n",
              "  'years',\n",
              "  'Molchanov',\n",
              "  'AI-exposed',\n",
              "  'popularity',\n",
              "  'capitalist',\n",
              "  'Andreessen',\n",
              "  'impressive',\n",
              "  'deployment',\n",
              "  'accelerate',\n",
              "  'moderation',\n",
              "  'technology',\n",
              "  'technology',\n",
              "  'ultimately',\n",
              "  'investment',\n",
              "  'accelerate',\n",
              "  'relatively',\n",
              "  'government'],\n",
              " 'entitiesdetected': ['DATE_TIME',\n",
              "  'DATE_TIME',\n",
              "  'NRP',\n",
              "  'LOCATION',\n",
              "  'DATE_TIME',\n",
              "  'LOCATION',\n",
              "  'LOCATION',\n",
              "  'NRP',\n",
              "  'PERSON',\n",
              "  'LOCATION',\n",
              "  'DATE_TIME',\n",
              "  'DATE_TIME',\n",
              "  'DATE_TIME',\n",
              "  'PERSON',\n",
              "  'LOCATION',\n",
              "  'DATE_TIME',\n",
              "  'DATE_TIME',\n",
              "  'DATE_TIME',\n",
              "  'PERSON',\n",
              "  'PERSON',\n",
              "  'DATE_TIME',\n",
              "  'LOCATION',\n",
              "  'LOCATION',\n",
              "  'DATE_TIME',\n",
              "  'LOCATION',\n",
              "  'DATE_TIME',\n",
              "  'DATE_TIME',\n",
              "  'DATE_TIME',\n",
              "  'DATE_TIME',\n",
              "  'DATE_TIME',\n",
              "  'PERSON',\n",
              "  'IN_PAN',\n",
              "  'IN_PAN',\n",
              "  'IN_PAN',\n",
              "  'IN_PAN',\n",
              "  'IN_PAN',\n",
              "  'IN_PAN',\n",
              "  'IN_PAN',\n",
              "  'IN_PAN',\n",
              "  'IN_PAN',\n",
              "  'IN_PAN',\n",
              "  'IN_PAN',\n",
              "  'IN_PAN',\n",
              "  'IN_PAN',\n",
              "  'IN_PAN',\n",
              "  'IN_PAN'],\n",
              " 'capturedentityscores': [0.85,\n",
              "  0.85,\n",
              "  0.85,\n",
              "  0.85,\n",
              "  0.85,\n",
              "  0.85,\n",
              "  0.85,\n",
              "  0.85,\n",
              "  0.85,\n",
              "  0.85,\n",
              "  0.85,\n",
              "  0.85,\n",
              "  0.85,\n",
              "  0.85,\n",
              "  0.85,\n",
              "  0.85,\n",
              "  0.85,\n",
              "  0.85,\n",
              "  0.85,\n",
              "  0.85,\n",
              "  0.85,\n",
              "  0.85,\n",
              "  0.85,\n",
              "  0.85,\n",
              "  0.85,\n",
              "  0.85,\n",
              "  0.85,\n",
              "  0.85,\n",
              "  0.85,\n",
              "  0.85,\n",
              "  0.85,\n",
              "  0.05,\n",
              "  0.05,\n",
              "  0.05,\n",
              "  0.05,\n",
              "  0.05,\n",
              "  0.05,\n",
              "  0.05,\n",
              "  0.05,\n",
              "  0.05,\n",
              "  0.05,\n",
              "  0.05,\n",
              "  0.05,\n",
              "  0.05,\n",
              "  0.05,\n",
              "  0.05],\n",
              " 'Totalentityscores': 27.1,\n",
              " 'anonimizedtext': '<IN_PAN> power stocks rebounded on <DATE_TIME> after getting crushed <DATE_TIME> alongside a tech rout following the release of a new AI model from the <NRP> upstart DeepSeek.\\nConstellation Energy (CEG), the largest nuclear plant operator in the <LOCATION>, gained more than 1% after tumbling 21% in the prior session.\\nElectricity and power generator Vistra Corp (VST) jumped 9% after sinking by a record 28%. Meanwhile, power equipment maker and servicer GE Vernova (GEV) gained more than 7%, following a 21% drop.\\nIn <DATE_TIME>, DeepSeek released a new AI model that was competitive with those of <LOCATION> rivals and cheaper to produce. The model surged in <IN_PAN>, rising to the top of <LOCATION> iPhone downloads ahead of OpenAI\\'s ChatGPT, and won praise from prominent figures. <NRP> venture <IN_PAN> <PERSON> called the model “one of the most amazing and <IN_PAN> breakthroughs I’ve ever seen.”\\nThe developments have rattled investors, who bid up power stocks on the belief that <LOCATION> hyperscalers will pour money into building out data centers required for AI use, thereby driving a surge in energy demand. Power stocks are coming off a ripping rally in <DATE_TIME> and start of <DATE_TIME>, with Constellation, Vistra, and GE Vernova all having touched record highs <DATE_TIME>.\\nNow, questions are emerging on whether long-term energy demand will be as strong as expected.\\n\"Hopefully we can kind of resume some of the upward [stock] trend, but this really does kind of cast some uncertainty into that thesis, which has become an investor’s base case,\" said <PERSON>, managing director for <LOCATION> power utilities and clean energy research at Jefferies.\\nThe analyst, however, noted data center <IN_PAN> is \"very likely intact\" in the medium term. The question going forward is what happens in the later part of <DATE_TIME>.\\nHe said, \"Does that trend <IN_PAN> in the future? Does it kind of stabilize and even see some <IN_PAN> of demand growth out <DATE_TIME>?\"\\nWall Street analysts recognize estimates of data center energy usage are bound to change over time as the <IN_PAN> becomes more efficient.\\n\"AI is, of course, very nascent, young <IN_PAN>, which means that trying to estimate how much energy AI will <IN_PAN> need is very speculative,\" <PERSON>, <IN_PAN> strategy analyst at <PERSON>, told Yahoo Finance on <DATE_TIME>.\\n\"It\\'s going to be a lot, and we should expect that electricity demand in the <LOCATION> and various other economies will <IN_PAN> as a result of <LOCATION>. It\\'s just a question of how much,\" he added.\\nThe increased energy needs are already visible. After <DATE_TIME> of <IN_PAN> steady demand, <LOCATION> electricity consumption jumped by 2% in <DATE_TIME>, according to <IN_PAN> data.\\nThe Energy Information Administration forecasts electricity demand will continue growing at that rate in <DATE_TIME> and <DATE_TIME>.\\nData center deployments are also happening at the same time that utility companies build out their electric grids and infrastructure.\\n\"All of this is a marathon rather than a sprint. It takes <DATE_TIME> to build data center projects, and it takes <DATE_TIME> to build power plants and transmission grids,\" said <PERSON>.\\n',\n",
              " 'piidetected': True,\n",
              " 'contextsupplied': 'AI-exposed power stocks rebounded on Tuesday after getting crushed the previous day alongside a tech rout following the release of a new AI model from the Chinese upstart DeepSeek.\\nConstellation Energy (CEG), the largest nuclear plant operator in the US, gained more than 1% after tumbling 21% in the prior session.\\nElectricity and power generator Vistra Corp (VST) jumped 9% after sinking by a record 28%. Meanwhile, power equipment maker and servicer GE Vernova (GEV) gained more than 7%, following a 21% drop.\\nIn late January, DeepSeek released a new AI model that was competitive with those of US rivals and cheaper to produce. The model surged in popularity, rising to the top of US iPhone downloads ahead of OpenAI\\'s ChatGPT, and won praise from prominent figures. American venture capitalist Marc Andreessen called the model “one of the most amazing and impressive breakthroughs I’ve ever seen.”\\nThe developments have rattled investors, who bid up power stocks on the belief that US hyperscalers will pour money into building out data centers required for AI use, thereby driving a surge in energy demand. Power stocks are coming off a ripping rally in 2024 and start of the year, with Constellation, Vistra, and GE Vernova all having touched record highs just last week.\\nNow, questions are emerging on whether long-term energy demand will be as strong as expected.\\n\"Hopefully we can kind of resume some of the upward [stock] trend, but this really does kind of cast some uncertainty into that thesis, which has become an investor’s base case,\" said Paul Zimbardo, managing director for US power utilities and clean energy research at Jefferies.\\nThe analyst, however, noted data center deployment is \"very likely intact\" in the medium term. The question going forward is what happens in the later part of the decade and 2030s.\\nHe said, \"Does that trend accelerate in the future? Does it kind of stabilize and even see some moderation of demand growth out later in the decade?\"\\nWall Street analysts recognize estimates of data center energy usage are bound to change over time as the technology becomes more efficient.\\n\"AI is, of course, very nascent, young technology, which means that trying to estimate how much energy AI will ultimately need is very speculative,\" Pavel Molchanov, investment strategy analyst at Raymond James, told Yahoo Finance on Tuesday.\\n\"It\\'s going to be a lot, and we should expect that electricity demand in the US and various other economies will accelerate as a result of AI. It\\'s just a question of how much,\" he added.\\nThe increased energy needs are already visible. After nearly two decades of relatively steady demand, US electricity consumption jumped by 2% in 2024, according to government data.\\nThe Energy Information Administration forecasts electricity demand will continue growing at that rate in this year and 2026.\\nData center deployments are also happening at the same time that utility companies build out their electric grids and infrastructure.\\n\"All of this is a marathon rather than a sprint. It takes years to build data center projects, and it takes years to build power plants and transmission grids,\" said Molchanov.\\n'}"
            ]
          },
          "metadata": {},
          "execution_count": 16
        }
      ]
    },
    {
      "cell_type": "code",
      "source": [
        "checkregexpiiinformation(contextstr=Nvidiatestcase2)"
      ],
      "metadata": {
        "colab": {
          "base_uri": "https://localhost:8080/"
        },
        "id": "VB09jDPlb6th",
        "outputId": "5c178b37-7992-495e-881c-6764d5a366df"
      },
      "execution_count": 17,
      "outputs": [
        {
          "output_type": "execute_result",
          "data": {
            "text/plain": [
              "{'textdetected': ['single-day',\n",
              "  'Monday',\n",
              "  'the week',\n",
              "  'Tuesday',\n",
              "  'Monday',\n",
              "  'Tuesday',\n",
              "  'Harlan Sur',\n",
              "  'Christopher Danley',\n",
              "  'Chinese',\n",
              "  'Sur',\n",
              "  'Danley',\n",
              "  'Deepseek',\n",
              "  'US',\n",
              "  'Raymond James',\n",
              "  'Srini Pajjuri',\n",
              "  'Monday',\n",
              "  'R1',\n",
              "  'V3'],\n",
              " 'entitiesdetected': ['DATE_TIME',\n",
              "  'DATE_TIME',\n",
              "  'DATE_TIME',\n",
              "  'DATE_TIME',\n",
              "  'DATE_TIME',\n",
              "  'DATE_TIME',\n",
              "  'PERSON',\n",
              "  'PERSON',\n",
              "  'NRP',\n",
              "  'PERSON',\n",
              "  'PERSON',\n",
              "  'PERSON',\n",
              "  'LOCATION',\n",
              "  'PERSON',\n",
              "  'PERSON',\n",
              "  'DATE_TIME',\n",
              "  'US_DRIVER_LICENSE',\n",
              "  'US_DRIVER_LICENSE'],\n",
              " 'capturedentityscores': [0.85,\n",
              "  0.85,\n",
              "  0.85,\n",
              "  0.85,\n",
              "  0.85,\n",
              "  0.85,\n",
              "  0.85,\n",
              "  0.85,\n",
              "  0.85,\n",
              "  0.85,\n",
              "  0.85,\n",
              "  0.85,\n",
              "  0.85,\n",
              "  0.85,\n",
              "  0.85,\n",
              "  0.85,\n",
              "  0.3,\n",
              "  0.3],\n",
              " 'Totalentityscores': 14.2,\n",
              " 'anonimizedtext': 'That created a concern among the investment community that Nvidia’s high GPU (graphics processing unit, or AI chip) prices could come under pressure and that demand for semiconductors could wane.\\nNvidia’s $589 billion market cap decline was the largest <DATE_TIME> loss in stock market history.\\nThe DeepSeek announcements drove down not only Nvidia but the market at large, with the tech-heavy Nasdaq (^IXIC) dropping 3%. Chip stocks dropped across the board <DATE_TIME>, but some names began to recover. After dropping more than 17% to start <DATE_TIME>, Broadcom (AVGO) rose 2.6% <DATE_TIME>.\\nNvidia itself didn’t express much anxiety over the DeepSeek buzz, calling <US_DRIVER_LICENSE> \"an excellent AI advancement\" in a statement <DATE_TIME>.\\nWall Street analysts continued to reflect on the DeepSeek-fueled market rout <DATE_TIME>, expressing skepticism over DeepSeek’s reportedly low costs to train its AI models and the implications for AI stocks.\\nJPMorgan analyst <PERSON> and Citi analyst <PERSON> said in separate notes to investors that because DeepSeek used a process called “distillation” — in other words, it relied on Meta’s (META) open-source Llama AI model to develop its model — the low spending cited by the <NRP> startup (under $6 billion to train its recent <US_DRIVER_LICENSE> model) did not fully encompass its costs.\\n“We believe it is crucial to validate these costs before drawing conclusions,” <PERSON> wrote.\\n<PERSON> added: “Given <PERSON> is based on leveraging cloud service providers [Meta] and AI is still in its infancy, we lean towards the argument of continued strong growth in AI spending.”\\nEven so, DeepSeek “clearly doesn’t have access to as much compute as <LOCATION> hyperscalers and somehow managed to develop a model that appears highly competitive,” <PERSON> analyst <PERSON> wrote in a note to investors <DATE_TIME>.\\n',\n",
              " 'piidetected': True,\n",
              " 'contextsupplied': 'That created a concern among the investment community that Nvidia’s high GPU (graphics processing unit, or AI chip) prices could come under pressure and that demand for semiconductors could wane.\\nNvidia’s $589 billion market cap decline was the largest single-day loss in stock market history.\\nThe DeepSeek announcements drove down not only Nvidia but the market at large, with the tech-heavy Nasdaq (^IXIC) dropping 3%. Chip stocks dropped across the board Monday, but some names began to recover. After dropping more than 17% to start the week, Broadcom (AVGO) rose 2.6% Tuesday.\\nNvidia itself didn’t express much anxiety over the DeepSeek buzz, calling R1 \"an excellent AI advancement\" in a statement Monday.\\nWall Street analysts continued to reflect on the DeepSeek-fueled market rout Tuesday, expressing skepticism over DeepSeek’s reportedly low costs to train its AI models and the implications for AI stocks.\\nJPMorgan analyst Harlan Sur and Citi analyst Christopher Danley said in separate notes to investors that because DeepSeek used a process called “distillation” — in other words, it relied on Meta’s (META) open-source Llama AI model to develop its model — the low spending cited by the Chinese startup (under $6 billion to train its recent V3 model) did not fully encompass its costs.\\n“We believe it is crucial to validate these costs before drawing conclusions,” Sur wrote.\\nDanley added: “Given Deepseek is based on leveraging cloud service providers [Meta] and AI is still in its infancy, we lean towards the argument of continued strong growth in AI spending.”\\nEven so, DeepSeek “clearly doesn’t have access to as much compute as US hyperscalers and somehow managed to develop a model that appears highly competitive,” Raymond James analyst Srini Pajjuri wrote in a note to investors Monday.\\n'}"
            ]
          },
          "metadata": {},
          "execution_count": 17
        }
      ]
    },
    {
      "cell_type": "code",
      "source": [
        "checkregexpiiinformation(contextstr=coinbasetestcase)"
      ],
      "metadata": {
        "colab": {
          "base_uri": "https://localhost:8080/"
        },
        "id": "P58bjyFAb9jy",
        "outputId": "2808cb8e-6d50-4d6d-d065-1a449b462d48"
      },
      "execution_count": 18,
      "outputs": [
        {
          "output_type": "execute_result",
          "data": {
            "text/plain": [
              "{'textdetected': ['Brian Armstrong',\n",
              "  'weekly',\n",
              "  'Armstrong',\n",
              "  'every week',\n",
              "  '2012',\n",
              "  '2022',\n",
              "  'Brian Armstrong',\n",
              "  'Sunday',\n",
              "  'Donald Trump',\n",
              "  'Trump',\n",
              "  'Melania Trump',\n",
              "  'recent years',\n",
              "  'Haliey Welch',\n",
              "  'December',\n",
              "  'just hours',\n",
              "  'Welch',\n",
              "  'Welch',\n",
              "  'Armstrong',\n",
              "  'regulators',\n",
              "  'streamline'],\n",
              " 'entitiesdetected': ['PERSON',\n",
              "  'DATE_TIME',\n",
              "  'PERSON',\n",
              "  'DATE_TIME',\n",
              "  'DATE_TIME',\n",
              "  'DATE_TIME',\n",
              "  'PERSON',\n",
              "  'DATE_TIME',\n",
              "  'PERSON',\n",
              "  'PERSON',\n",
              "  'PERSON',\n",
              "  'DATE_TIME',\n",
              "  'PERSON',\n",
              "  'DATE_TIME',\n",
              "  'DATE_TIME',\n",
              "  'PERSON',\n",
              "  'PERSON',\n",
              "  'PERSON',\n",
              "  'IN_PAN',\n",
              "  'IN_PAN'],\n",
              " 'capturedentityscores': [0.85,\n",
              "  0.85,\n",
              "  0.85,\n",
              "  0.85,\n",
              "  0.85,\n",
              "  0.85,\n",
              "  0.85,\n",
              "  0.85,\n",
              "  0.85,\n",
              "  0.85,\n",
              "  0.85,\n",
              "  0.85,\n",
              "  0.85,\n",
              "  0.85,\n",
              "  0.85,\n",
              "  0.85,\n",
              "  0.85,\n",
              "  0.85,\n",
              "  0.05,\n",
              "  0.05],\n",
              " 'Totalentityscores': 15.4,\n",
              " 'anonimizedtext': 'Coinbase CEO <PERSON> said 1 million new tokens are created <DATE_TIME>.\\nHe said <IN_PAN> need to know that it\\'s not \"feasible\" to evaluate each one for listing.\\n<PERSON> suggested a shift to a \"block list\" for crypto listings to <IN_PAN> the process.\\nThe CEO of Coinbase says that a million new crypto coins are created <DATE_TIME>, and it\\'s becoming hard to evaluate them all.\\nCoinbase is a popular cryptocurrency trading platform that has allowed users to trade cryptocurrencies such as bitcoin and dogecoin since <DATE_TIME>. The company has seen enormous growth since going public in <DATE_TIME> and is now worth $74 billion.\\nCoinbase, like all cryptocurrency exchanges, uses an application process for new currency listings that evaluates the coin based on the company\\'s own digital-asset framework.\\n\"High-quality problem to have, but evaluating each one by one is no longer feasible,\" Coinbase CEO <PERSON> wrote in a post on X on <DATE_TIME>. \"And regulators need to understand that applying for approval for each one is totally infeasible at this point as well (they can\\'t do 1m a week).\"\\nCoinbase and other leading crypto companies have urged the federal government to clarify cryptocurrency regulations to ensure they can stay compliant.\\nThe industry is optimistic, however, with the arrival of President <PERSON>, who has made promoting crypto a central part of his agenda. <PERSON> even launched his own meme coin shortly before his inauguration. His wife, <PERSON>, quickly followed suit.\\nThe number of circulating meme coins has risen in <DATE_TIME>. These are cryptocurrencies that are sometimes based on an internet meme or the result of a joke but are always designed to go viral in the hope of increasing their value.\\nAnyone can create a meme coin online. If it does go viral, it could earn the creator, who\\'s often the largest investor, a windfall. Influencers have caught on and now often leverage their followings to capitalize.\\n<PERSON>, known to most online as the \"Hawk Tuah Girl,\" made headlines in <DATE_TIME> after she launched her own meme coin, $hawk. The coin\\'s total market value shot up to almost $500 million before it collapsed after <DATE_TIME>. <PERSON> told Fortune at the time that the coin wasn\\'t meant to be a \"cash grab.\" In a post on X, <PERSON> said her team didn\\'t sell any coins.\\n<PERSON> said it was time to \"rethink\" the listing process at Coinbase, advocating for regulation of the crypto listing process to move from an \"add list\" to a \"block list\" that utilizes customer reviews and automated scans of blockchain data to help with the process.\\n',\n",
              " 'piidetected': True,\n",
              " 'contextsupplied': 'Coinbase CEO Brian Armstrong said 1 million new tokens are created weekly.\\nHe said regulators need to know that it\\'s not \"feasible\" to evaluate each one for listing.\\nArmstrong suggested a shift to a \"block list\" for crypto listings to streamline the process.\\nThe CEO of Coinbase says that a million new crypto coins are created every week, and it\\'s becoming hard to evaluate them all.\\nCoinbase is a popular cryptocurrency trading platform that has allowed users to trade cryptocurrencies such as bitcoin and dogecoin since 2012. The company has seen enormous growth since going public in 2022 and is now worth $74 billion.\\nCoinbase, like all cryptocurrency exchanges, uses an application process for new currency listings that evaluates the coin based on the company\\'s own digital-asset framework.\\n\"High-quality problem to have, but evaluating each one by one is no longer feasible,\" Coinbase CEO Brian Armstrong wrote in a post on X on Sunday. \"And regulators need to understand that applying for approval for each one is totally infeasible at this point as well (they can\\'t do 1m a week).\"\\nCoinbase and other leading crypto companies have urged the federal government to clarify cryptocurrency regulations to ensure they can stay compliant.\\nThe industry is optimistic, however, with the arrival of President Donald Trump, who has made promoting crypto a central part of his agenda. Trump even launched his own meme coin shortly before his inauguration. His wife, Melania Trump, quickly followed suit.\\nThe number of circulating meme coins has risen in recent years. These are cryptocurrencies that are sometimes based on an internet meme or the result of a joke but are always designed to go viral in the hope of increasing their value.\\nAnyone can create a meme coin online. If it does go viral, it could earn the creator, who\\'s often the largest investor, a windfall. Influencers have caught on and now often leverage their followings to capitalize.\\nHaliey Welch, known to most online as the \"Hawk Tuah Girl,\" made headlines in December after she launched her own meme coin, $hawk. The coin\\'s total market value shot up to almost $500 million before it collapsed after just hours. Welch told Fortune at the time that the coin wasn\\'t meant to be a \"cash grab.\" In a post on X, Welch said her team didn\\'t sell any coins.\\nArmstrong said it was time to \"rethink\" the listing process at Coinbase, advocating for regulation of the crypto listing process to move from an \"add list\" to a \"block list\" that utilizes customer reviews and automated scans of blockchain data to help with the process.\\n'}"
            ]
          },
          "metadata": {},
          "execution_count": 18
        }
      ]
    }
  ]
}